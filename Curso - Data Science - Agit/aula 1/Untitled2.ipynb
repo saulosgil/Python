{
 "cells": [
  {
   "cell_type": "code",
   "execution_count": 5,
   "id": "8c7e5b73-cad2-4cc7-bb13-be2d535cab64",
   "metadata": {},
   "outputs": [],
   "source": [
    "qtd_horas = 50\n",
    "valor_hora = 60"
   ]
  },
  {
   "cell_type": "code",
   "execution_count": 6,
   "id": "c93df40d-9a1d-44e9-92f8-819e08166015",
   "metadata": {},
   "outputs": [],
   "source": [
    "def calcular_pagamento(qtd_horas, valor_hora):\n",
    "  horas = float(qtd_horas)\n",
    "  taxa = float(valor_hora)\n",
    "  if horas <= 40:\n",
    "    salario=horas*taxa\n",
    "  else:\n",
    "    h_excd = horas - 40\n",
    "    salario = 40*taxa+(h_excd*(1.5*taxa))\n",
    "  return salario"
   ]
  },
  {
   "cell_type": "code",
   "execution_count": 7,
   "id": "f0e9b9eb-b2dc-4ed0-a2c8-b34a5d51f61a",
   "metadata": {},
   "outputs": [
    {
     "data": {
      "text/plain": [
       "3300.0"
      ]
     },
     "execution_count": 7,
     "metadata": {},
     "output_type": "execute_result"
    }
   ],
   "source": [
    "def calcular_imc(peso, estatura):\n",
    "  horas = float(peso)\n",
    "  taxa = float(estatura)\n",
    "  if horas <= 40:\n",
    "    imc=pes*taxa\n",
    "  else:\n",
    "    h_excd = horas - 40\n",
    "    salario = 40*taxa+(h_excd*(1.5*taxa))\n",
    "  return salario"
   ]
  }
 ],
 "metadata": {
  "kernelspec": {
   "display_name": "Python 3 (ipykernel)",
   "language": "python",
   "name": "python3"
  },
  "language_info": {
   "codemirror_mode": {
    "name": "ipython",
    "version": 3
   },
   "file_extension": ".py",
   "mimetype": "text/x-python",
   "name": "python",
   "nbconvert_exporter": "python",
   "pygments_lexer": "ipython3",
   "version": "3.9.7"
  }
 },
 "nbformat": 4,
 "nbformat_minor": 5
}
