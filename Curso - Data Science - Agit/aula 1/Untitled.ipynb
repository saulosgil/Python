{
 "cells": [
  {
   "cell_type": "code",
   "execution_count": 12,
   "id": "85a900e8-b496-4aef-b655-8437bcb2c072",
   "metadata": {},
   "outputs": [],
   "source": [
    "def imc(peso, estatura):\n",
    "    return peso/estatura**2"
   ]
  },
  {
   "cell_type": "code",
   "execution_count": 13,
   "id": "b8f727c8-8aa2-4107-9e60-0ea54626fd70",
   "metadata": {},
   "outputs": [
    {
     "data": {
      "text/plain": [
       "24.930747922437675"
      ]
     },
     "execution_count": 13,
     "metadata": {},
     "output_type": "execute_result"
    }
   ],
   "source": [
    "imc(90,1.90)"
   ]
  }
 ],
 "metadata": {
  "kernelspec": {
   "display_name": "Python 3 (ipykernel)",
   "language": "python",
   "name": "python3"
  },
  "language_info": {
   "codemirror_mode": {
    "name": "ipython",
    "version": 3
   },
   "file_extension": ".py",
   "mimetype": "text/x-python",
   "name": "python",
   "nbconvert_exporter": "python",
   "pygments_lexer": "ipython3",
   "version": "3.9.7"
  }
 },
 "nbformat": 4,
 "nbformat_minor": 5
}
