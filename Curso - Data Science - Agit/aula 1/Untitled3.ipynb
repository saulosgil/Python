{
 "cells": [
  {
   "cell_type": "code",
   "execution_count": 1,
   "id": "b7d3f13a-9073-4d45-9158-0dadf7dabe6f",
   "metadata": {},
   "outputs": [],
   "source": [
    "peso = 90\n",
    "estatura = 1.55"
   ]
  },
  {
   "cell_type": "code",
   "execution_count": 13,
   "id": "41ff658f-cdac-49aa-85f3-54830d6685fc",
   "metadata": {},
   "outputs": [],
   "source": [
    "def calcular_imc(peso, estatura):\n",
    "    imc = peso / estatura ** 2\n",
    "    return imc            "
   ]
  },
  {
   "cell_type": "code",
   "execution_count": 14,
   "id": "94dfe719-5efe-4e33-8f1e-ea70374e3758",
   "metadata": {},
   "outputs": [
    {
     "data": {
      "text/plain": [
       "37.460978147762745"
      ]
     },
     "execution_count": 14,
     "metadata": {},
     "output_type": "execute_result"
    }
   ],
   "source": [
    "calcular_imc(peso, estatura)"
   ]
  },
  {
   "cell_type": "code",
   "execution_count": 18,
   "id": "43ef8593-806b-4d0d-a5fc-b3938f3ea602",
   "metadata": {},
   "outputs": [],
   "source": [
    "def obesidade(imc):\n",
    "    if imc <= 30:\n",
    "        print('normal')\n",
    "    else:\n",
    "        imc > 30\n",
    "        print ('obeso')\n",
    "    return imc"
   ]
  },
  {
   "cell_type": "code",
   "execution_count": 22,
   "id": "5813d4a3-b6c6-42de-8100-7103defd6027",
   "metadata": {},
   "outputs": [
    {
     "name": "stdout",
     "output_type": "stream",
     "text": [
      "obeso\n"
     ]
    },
    {
     "data": {
      "text/plain": [
       "35"
      ]
     },
     "execution_count": 22,
     "metadata": {},
     "output_type": "execute_result"
    }
   ],
   "source": [
    "obesidade(35)"
   ]
  },
  {
   "cell_type": "code",
   "execution_count": null,
   "id": "81119817-247a-4e0b-82b5-6c47b0798be4",
   "metadata": {},
   "outputs": [],
   "source": []
  }
 ],
 "metadata": {
  "kernelspec": {
   "display_name": "Python 3 (ipykernel)",
   "language": "python",
   "name": "python3"
  },
  "language_info": {
   "codemirror_mode": {
    "name": "ipython",
    "version": 3
   },
   "file_extension": ".py",
   "mimetype": "text/x-python",
   "name": "python",
   "nbconvert_exporter": "python",
   "pygments_lexer": "ipython3",
   "version": "3.9.7"
  }
 },
 "nbformat": 4,
 "nbformat_minor": 5
}
